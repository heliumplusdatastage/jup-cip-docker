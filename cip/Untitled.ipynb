{
 "cells": [
  {
   "cell_type": "code",
   "execution_count": 1,
   "metadata": {},
   "outputs": [
    {
     "name": "stdout",
     "output_type": "stream",
     "text": [
      "/home/ubuntu/efs\n"
     ]
    }
   ],
   "source": [
    "cd efs"
   ]
  },
  {
   "cell_type": "code",
   "execution_count": 2,
   "metadata": {},
   "outputs": [
    {
     "name": "stdout",
     "output_type": "stream",
     "text": [
      "/home/ubuntu/efs/copdgene_phenotype\n"
     ]
    }
   ],
   "source": [
    "cd copdgene_phenotype/\n"
   ]
  },
  {
   "cell_type": "code",
   "execution_count": 3,
   "metadata": {},
   "outputs": [],
   "source": [
    "import pandas as pd"
   ]
  },
  {
   "cell_type": "code",
   "execution_count": 5,
   "metadata": {},
   "outputs": [
    {
     "name": "stderr",
     "output_type": "stream",
     "text": [
      "/usr/local/lib/python2.7/dist-packages/IPython/core/interactiveshell.py:2714: DtypeWarning: Columns (16,17,18,32,33,34,35,36,37,38,39,52,53,54,55,56,57,58,59,60,61,62,63,64,65,66,67,68,69,70,72,73,76,77,78,85,86,89,90,91,92,94,95,96,97,98,99,100,101,102,108,112,114,116,118,119,120,121,122,123,124,125,126,127,128,129,130,131,132,134,142,145,148,150,151,152,153,154,155,156,157,158,161,483,487,489,490,491,492,493,494,495,496,497,498,499,500,501,502,503,504,505,506,507,508,509,510,511,512,513,514,515,516,517,518,519,520,526,527,528,529,530,531,532) have mixed types. Specify dtype option on import or set low_memory=False.\n",
      "  interactivity=interactivity, compiler=compiler, result=result)\n"
     ]
    }
   ],
   "source": [
    "df=pd.read_csv('COPDGene_P1P2_STAGE_minusVisit_Date.TXT',delimiter=\" \")"
   ]
  },
  {
   "cell_type": "code",
   "execution_count": 21,
   "metadata": {},
   "outputs": [
    {
     "data": {
      "text/plain": [
       "Index([u'subjId', u'deid_center', u'Phase_study', u'Visit_Year', u'Unnamed: 4',\n",
       "       u'years_from_baseline', u'gender', u'race', u'ethnic', u'EverSmokedCig',\n",
       "       ...\n",
       "       u'pctEmph_LowerLobes_Slicer', u'pctEmph_UL_LL_ratio_Slicer',\n",
       "       u'pctEmph_UpperThird_Slicer', u'pctEmph_LowerThird_Slicer',\n",
       "       u'Slicer_ExpInspMeanAtten_ratio', u'UpperThird_LowerThird_Slicer',\n",
       "       u'TLC_CT', u'FRC_CT', u'pctEmph', u'pctGasTrap'],\n",
       "      dtype='object', length=798)"
      ]
     },
     "execution_count": 21,
     "metadata": {},
     "output_type": "execute_result"
    }
   ],
   "source": [
    "COPDGene_A08632 C08 1 2009  0 1 1 2 1 1 72.7 72.7 -1 onsite 0 1 172.4 75.7 126 76 60 0 97 25.47 0 1378 1 1 0 0 1 0 5 0 0 0 0 0 0 0 0 0 0 0 1 0 0 0 0 0 0 0 0 0 0 0 0 0 0 0 0 0 0 0 0 0 0 0 0 0 0 0 0 0 0 0 0 0 0 0 0 0 0 0 0 0 0 0 0 1 0 0 0 0 0 0 0 0 0 65 0 0 1 0 0 0 0 0 1 0 0 0 0 0 0 0 1 1 67 1 0 0 0 0 0 0 15 30 1 0 0 1 18 40 0 6 1 1 1 0 0 0 0 0 0 0 0 0 0 1 0 1 1 7.63 12.51 0 5 0.73 0.63 3.97 2.89 2.14 0 75 8 50 0 0 0 Y 0 2009 Sensation64 0 0.75 STD 5.9650 10.7791 10.7791 -942.1306 -867.6007 127.2772 2.8210 21.6096 21.6096 -875.4392 -732.6827 174.3325 13.615 7.616 1.788 53.23 0.8445 3.676 4.907 57.01 62.8075 4 2 1 1 0 6.69476 3.67116 5.965005373 1 -1 post 65.3 65.3 0.73 1.888 2.566 2.593 8.049 1.297 0 A 0 03/15/2009 0 0 5.9655 2.8774 0.482 10.5106 13.34 7.373 1.809 21.0506 10.5106 13.9998 7.1567 15.1735 6.04789 7.58704 21.0506 24.6964 6.32142 31.4655 36.2006 11.2041 -941 -948 -934 -950 -934 -935 -874 -881 -807 -896 -895 -841 -860.714 -874.235 -847.604 -870.96 -858.238 -851.786 -719.533 -744.853 -639.2 -766.17 -781.644 -680.012 5.9655 1.4305 1.4091 1.2601 0.4461 1.4198 2.8774 0.7186 0.5363 0.6802 0.299 0.6433 0.4823 0.5023 0.3806 0.5398 0.6703 0.4531 89.1 100 Siemens UIA01 Sensation64 0 59 52.573131822 59.004892367 2.3523842717 3.0469290633 4.90796 16.5427 72.3265 6.22292 1.72 0.8242034407 40.282654433 5.9754 10.2555 10.2555 -943.0000 -865.9180 131.3660 800.9710 27.9174 4.6059 -915.0000 2.8356 21.1191 21.1191 -876.0000 -730.1530 177.4700 765.0210 8.8093 2.0914 -832.0000 16.9785 4.2017 0.8432 4.041 5.9655 2.8774 10.5106 21.0506"
   ]
  },
  {
   "cell_type": "code",
   "execution_count": 10,
   "metadata": {},
   "outputs": [
    {
     "data": {
      "text/plain": [
       "0        COPDGene_A00282\n",
       "1        COPDGene_A00282\n",
       "2        COPDGene_A00444\n",
       "3        COPDGene_A00444\n",
       "4        COPDGene_A00975\n",
       "5        COPDGene_A00975\n",
       "6        COPDGene_A01052\n",
       "7        COPDGene_A01052\n",
       "8        COPDGene_A01133\n",
       "9        COPDGene_A01133\n",
       "10       COPDGene_A01220\n",
       "11       COPDGene_A01220\n",
       "12       COPDGene_A01751\n",
       "13       COPDGene_A01751\n",
       "14       COPDGene_A02050\n",
       "15       COPDGene_A02098\n",
       "16       COPDGene_A02098\n",
       "17       COPDGene_A02179\n",
       "18       COPDGene_A02797\n",
       "19       COPDGene_A03795\n",
       "20       COPDGene_A03795\n",
       "21       COPDGene_A04559\n",
       "22       COPDGene_A04559\n",
       "23       COPDGene_A04808\n",
       "24       COPDGene_A05032\n",
       "25       COPDGene_A05113\n",
       "26       COPDGene_A05113\n",
       "27       COPDGene_A05644\n",
       "28       COPDGene_A05644\n",
       "29       COPDGene_A05779\n",
       "              ...       \n",
       "17099    COPDGene_Z94393\n",
       "17100    COPDGene_Z94393\n",
       "17101    COPDGene_Z94870\n",
       "17102    COPDGene_Z94870\n",
       "17103    COPDGene_Z95640\n",
       "17104    COPDGene_Z95640\n",
       "17105    COPDGene_Z96074\n",
       "17106    COPDGene_Z96860\n",
       "17107    COPDGene_Z96941\n",
       "17108    COPDGene_Z96941\n",
       "17109    COPDGene_Z97630\n",
       "17110    COPDGene_Z97705\n",
       "17111    COPDGene_Z97759\n",
       "17112    COPDGene_Z97759\n",
       "17113    COPDGene_Z97852\n",
       "17114    COPDGene_Z97852\n",
       "17115    COPDGene_Z97987\n",
       "17116    COPDGene_Z97987\n",
       "17117    COPDGene_Z98151\n",
       "17118    COPDGene_Z98151\n",
       "17119    COPDGene_Z98292\n",
       "17120    COPDGene_Z98622\n",
       "17121    COPDGene_Z98622\n",
       "17122    COPDGene_Z98991\n",
       "17123    COPDGene_Z98991\n",
       "17124    COPDGene_Z99224\n",
       "17125    COPDGene_Z99224\n",
       "17126    COPDGene_Z99278\n",
       "17127    COPDGene_Z99278\n",
       "17128    COPDGene_Z99527\n",
       "Name: subjId, Length: 17129, dtype: object"
      ]
     },
     "execution_count": 10,
     "metadata": {},
     "output_type": "execute_result"
    }
   ],
   "source": [
    "df['Phase"
   ]
  },
  {
   "cell_type": "code",
   "execution_count": null,
   "metadata": {},
   "outputs": [],
   "source": []
  }
 ],
 "metadata": {
  "kernelspec": {
   "display_name": "Python 2",
   "language": "python",
   "name": "python2"
  },
  "language_info": {
   "codemirror_mode": {
    "name": "ipython",
    "version": 2
   },
   "file_extension": ".py",
   "mimetype": "text/x-python",
   "name": "python",
   "nbconvert_exporter": "python",
   "pygments_lexer": "ipython2",
   "version": "2.7.15rc1"
  }
 },
 "nbformat": 4,
 "nbformat_minor": 2
}
