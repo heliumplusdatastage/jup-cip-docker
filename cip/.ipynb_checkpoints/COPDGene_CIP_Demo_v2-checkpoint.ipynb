{
 "cells": [
  {
   "cell_type": "code",
   "execution_count": 1,
   "metadata": {},
   "outputs": [],
   "source": [
    "import subprocess\n",
    "import sys\n",
    "import os\n",
    "import pandas as pd\n",
    "\n",
    "pd.set_option('display.max_columns', 100)\n",
    "\n",
    "# Include 652 dcm files\n",
    "SID='A08632'\n",
    "\n",
    "def run(cmd, end_str='CIP processing completed.'):\n",
    "    p = subprocess.Popen(cmd,\n",
    "                     stdout=subprocess.PIPE, \n",
    "                     stderr=subprocess.STDOUT)\n",
    "\n",
    "    for line in iter(p.stdout.readline, b''):\n",
    "        sys.stdout.write('\\r{}'.format(line.rstrip())+ ' '* 200)\n",
    "        sys.stdout.flush()\n",
    "        pass\n",
    "    sys.stdout.write('\\n{}'.format(end_str))\n",
    "    sys.stdout.flush()"
   ]
  },
  {
   "cell_type": "code",
   "execution_count": 2,
   "metadata": {},
   "outputs": [
    {
     "name": "stdout",
     "output_type": "stream",
     "text": [
      "Successfully launched a CIP docker image\n"
     ]
    }
   ],
   "source": [
    "# launch docker image\n",
    "ret = subprocess.call(['/home/efs/userSpaces/public/cip/scripts/launch_cip_docker.sh'], shell=True)\n",
    "if ret != 0:\n",
    "    print \"Command failed with return code\", ret\n",
    "else:\n",
    "    print \"Successfully launched a CIP docker image\""
   ]
  },
  {
   "cell_type": "code",
   "execution_count": null,
   "metadata": {},
   "outputs": [
    {
     "name": "stdout",
     "output_type": "stream",
     "text": [
      "Computing phenos for region WildCard and type MildCentrilobularEmphysema                                                                                                                                                                                                                                                                                                                                                                                                                 "
     ]
    }
   ],
   "source": [
    "# run the end-to-end script\n",
    "cmd = 'sudo docker exec cip-docker bash /scripts/end_to_end.sh'.split() + [str(SID)]\n",
    "\n",
    "run(cmd, 'Preprocessing completed')\n",
    "\n",
    "####################################\n",
    "##### Note: Running in parallel, the processing order is not sequential\n",
    "####################################"
   ]
  },
  {
   "cell_type": "code",
   "execution_count": null,
   "metadata": {},
   "outputs": [],
   "source": [
    "# parenchyma Phenotypes from partial lung label map with DNN\n",
    "OUTPUT_PATH = '/home/efs/userSpaces/public/cip/outputs/'\n",
    "FILENAME = {\n",
    "    'dnn':'ctfile_parenchymaPhenotypes_{}.csv'.format(str(SID)),\n",
    "}\n",
    "\n",
    "pd.read_csv(OUTPUT_PATH + FILENAME['dnn'])"
   ]
  }
 ],
 "metadata": {
  "kernelspec": {
   "display_name": "Python 2",
   "language": "python",
   "name": "python2"
  },
  "language_info": {
   "codemirror_mode": {
    "name": "ipython",
    "version": 2
   },
   "file_extension": ".py",
   "mimetype": "text/x-python",
   "name": "python",
   "nbconvert_exporter": "python",
   "pygments_lexer": "ipython2",
   "version": "2.7.15rc1"
  }
 },
 "nbformat": 4,
 "nbformat_minor": 2
}
